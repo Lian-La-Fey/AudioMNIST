{
 "cells": [
  {
   "cell_type": "code",
   "execution_count": 1,
   "metadata": {},
   "outputs": [],
   "source": [
    "import torch\n",
    "import torchaudio\n",
    "import torch.nn as nn\n",
    "import torch.nn.functional as F\n",
    "\n",
    "from torch.utils.data import Dataset, DataLoader\n",
    "from torchaudio import transforms\n",
    "from glob import glob"
   ]
  },
  {
   "cell_type": "code",
   "execution_count": 2,
   "metadata": {},
   "outputs": [
    {
     "data": {
      "text/plain": [
       "device(type='cuda')"
      ]
     },
     "execution_count": 2,
     "metadata": {},
     "output_type": "execute_result"
    }
   ],
   "source": [
    "device = torch.device(\"cuda\" if torch.cuda.is_available() else \"cpu\")\n",
    "device"
   ]
  },
  {
   "cell_type": "code",
   "execution_count": 3,
   "metadata": {},
   "outputs": [],
   "source": [
    "SEED = 42\n",
    "\n",
    "torch.manual_seed(SEED)\n",
    "torch.cuda.manual_seed(SEED)\n",
    "torch.backends.cudnn.deterministic = True\n",
    "torch.backends.cudnn.benchmark = False"
   ]
  },
  {
   "cell_type": "code",
   "execution_count": 4,
   "metadata": {},
   "outputs": [],
   "source": [
    "class PadOrTruncate:\n",
    "    def __init__(self, max_len):\n",
    "        self.max_len = max_len\n",
    "\n",
    "    def __call__(self, waveform):\n",
    "        length = waveform.shape[1]\n",
    "        if length > self.max_len:\n",
    "            return waveform[:, :self.max_len]\n",
    "        elif length < self.max_len:\n",
    "            padding = self.max_len - length\n",
    "            return F.pad(waveform, (0, padding))\n",
    "        else:\n",
    "            return waveform"
   ]
  },
  {
   "cell_type": "code",
   "execution_count": 5,
   "metadata": {},
   "outputs": [],
   "source": [
    "class DigitAudioDataset(Dataset):\n",
    "    def __init__(self, data_dir: str, transform=None, pad_or_truncate=None, resample=None) -> None:\n",
    "        super().__init__()\n",
    "        self.file_paths = glob(f\"{data_dir}\\\\*\\\\*.wav\")\n",
    "        self.targets = [float(file_path.split(\"\\\\\")[-1][0]) for file_path in self.file_paths]\n",
    "        self.transform = transform\n",
    "        self.pad_or_truncate = pad_or_truncate\n",
    "        self.resample = resample\n",
    "    \n",
    "    def __len__(self):\n",
    "        return len(self.file_paths)\n",
    "    \n",
    "    def __getitem__(self, index) -> any:\n",
    "        waveform, sample_rate = torchaudio.load(self.file_paths[index])\n",
    "        \n",
    "        if self.resample:\n",
    "            waveform = self.resample(waveform)\n",
    "        \n",
    "        if self.pad_or_truncate:\n",
    "            waveform = self.pad_or_truncate(waveform)\n",
    "        \n",
    "        if self.transform:\n",
    "            waveform = self.transform(waveform)\n",
    "        \n",
    "        return waveform, torch.tensor(self.targets[index], dtype=torch.long)"
   ]
  },
  {
   "cell_type": "code",
   "execution_count": 6,
   "metadata": {},
   "outputs": [],
   "source": [
    "BATCH_SIZE = 64\n",
    "\n",
    "transform = torchaudio.transforms.Spectrogram()\n",
    "resample = transforms.Resample(orig_freq=48_000, new_freq=16_000)\n",
    "pad_or_truncate = PadOrTruncate(16_000) # samp_rate -> 16 kHz -> max 1 second.\n",
    "\n",
    "train_dataset = DigitAudioDataset(\"train\", transform=transform, pad_or_truncate=pad_or_truncate, resample=resample)\n",
    "train_dataloader = DataLoader(train_dataset, batch_size=BATCH_SIZE, shuffle=True)\n",
    "\n",
    "val_dataset = DigitAudioDataset(\"val\", transform=transform, pad_or_truncate=pad_or_truncate, resample=resample)\n",
    "val_dataloader = DataLoader(val_dataset, batch_size=BATCH_SIZE, shuffle=False)\n",
    "\n",
    "test_dataset = DigitAudioDataset(\"test\", transform=transform, pad_or_truncate=pad_or_truncate, resample=resample)\n",
    "test_dataloader = DataLoader(test_dataset, batch_size=BATCH_SIZE, shuffle=False)"
   ]
  },
  {
   "cell_type": "code",
   "execution_count": 7,
   "metadata": {},
   "outputs": [
    {
     "data": {
      "text/plain": [
       "torch.Size([1, 201, 81])"
      ]
     },
     "execution_count": 7,
     "metadata": {},
     "output_type": "execute_result"
    }
   ],
   "source": [
    "train_dataset[0][0].shape"
   ]
  },
  {
   "cell_type": "code",
   "execution_count": 8,
   "metadata": {},
   "outputs": [],
   "source": [
    "def conv_block(in_channels, out_channels, p=0.5):\n",
    "    return nn.Sequential(\n",
    "        nn.Conv2d(in_channels, out_channels, kernel_size=3, stride=1, padding=1, bias=False),\n",
    "        nn.BatchNorm2d(out_channels),\n",
    "        nn.ReLU(),\n",
    "        nn.Dropout2d(p=p),\n",
    "        nn.MaxPool2d(kernel_size=2, stride=2, padding=0)\n",
    "    )\n",
    "\n",
    "class CNNModel(nn.Module):\n",
    "    def __init__(self):\n",
    "        super(CNNModel, self).__init__()\n",
    "        \n",
    "        self.features = nn.Sequential(\n",
    "            conv_block(1, 8),\n",
    "            conv_block(8, 16),\n",
    "            conv_block(16, 24),\n",
    "            conv_block(24, 48),\n",
    "        )\n",
    "        \n",
    "        self.classifier = nn.Sequential(\n",
    "            nn.Linear(48 * 12 * 5, 128),\n",
    "            nn.BatchNorm1d(128),\n",
    "            nn.ReLU(),\n",
    "            nn.Linear(128, 10),\n",
    "        )\n",
    "        \n",
    "    def forward(self, x):\n",
    "        x = self.features(x)\n",
    "        x = x.view(x.shape[0], -1)\n",
    "        x = self.classifier(x)\n",
    "\n",
    "        return x"
   ]
  },
  {
   "cell_type": "code",
   "execution_count": 9,
   "metadata": {},
   "outputs": [
    {
     "data": {
      "text/plain": [
       "========================================================================================================================\n",
       "Layer (type:depth-idx)                   Input Shape          Output Shape         Param #              Trainable\n",
       "========================================================================================================================\n",
       "CNNModel                                 [64, 1, 201, 81]     [64, 10]             --                   True\n",
       "├─Sequential: 1-1                        [64, 1, 201, 81]     [64, 48, 12, 5]      --                   True\n",
       "│    └─Sequential: 2-1                   [64, 1, 201, 81]     [64, 8, 100, 40]     --                   True\n",
       "│    │    └─Conv2d: 3-1                  [64, 1, 201, 81]     [64, 8, 201, 81]     72                   True\n",
       "│    │    └─BatchNorm2d: 3-2             [64, 8, 201, 81]     [64, 8, 201, 81]     16                   True\n",
       "│    │    └─ReLU: 3-3                    [64, 8, 201, 81]     [64, 8, 201, 81]     --                   --\n",
       "│    │    └─Dropout2d: 3-4               [64, 8, 201, 81]     [64, 8, 201, 81]     --                   --\n",
       "│    │    └─MaxPool2d: 3-5               [64, 8, 201, 81]     [64, 8, 100, 40]     --                   --\n",
       "│    └─Sequential: 2-2                   [64, 8, 100, 40]     [64, 16, 50, 20]     --                   True\n",
       "│    │    └─Conv2d: 3-6                  [64, 8, 100, 40]     [64, 16, 100, 40]    1,152                True\n",
       "│    │    └─BatchNorm2d: 3-7             [64, 16, 100, 40]    [64, 16, 100, 40]    32                   True\n",
       "│    │    └─ReLU: 3-8                    [64, 16, 100, 40]    [64, 16, 100, 40]    --                   --\n",
       "│    │    └─Dropout2d: 3-9               [64, 16, 100, 40]    [64, 16, 100, 40]    --                   --\n",
       "│    │    └─MaxPool2d: 3-10              [64, 16, 100, 40]    [64, 16, 50, 20]     --                   --\n",
       "│    └─Sequential: 2-3                   [64, 16, 50, 20]     [64, 24, 25, 10]     --                   True\n",
       "│    │    └─Conv2d: 3-11                 [64, 16, 50, 20]     [64, 24, 50, 20]     3,456                True\n",
       "│    │    └─BatchNorm2d: 3-12            [64, 24, 50, 20]     [64, 24, 50, 20]     48                   True\n",
       "│    │    └─ReLU: 3-13                   [64, 24, 50, 20]     [64, 24, 50, 20]     --                   --\n",
       "│    │    └─Dropout2d: 3-14              [64, 24, 50, 20]     [64, 24, 50, 20]     --                   --\n",
       "│    │    └─MaxPool2d: 3-15              [64, 24, 50, 20]     [64, 24, 25, 10]     --                   --\n",
       "│    └─Sequential: 2-4                   [64, 24, 25, 10]     [64, 48, 12, 5]      --                   True\n",
       "│    │    └─Conv2d: 3-16                 [64, 24, 25, 10]     [64, 48, 25, 10]     10,368               True\n",
       "│    │    └─BatchNorm2d: 3-17            [64, 48, 25, 10]     [64, 48, 25, 10]     96                   True\n",
       "│    │    └─ReLU: 3-18                   [64, 48, 25, 10]     [64, 48, 25, 10]     --                   --\n",
       "│    │    └─Dropout2d: 3-19              [64, 48, 25, 10]     [64, 48, 25, 10]     --                   --\n",
       "│    │    └─MaxPool2d: 3-20              [64, 48, 25, 10]     [64, 48, 12, 5]      --                   --\n",
       "├─Sequential: 1-2                        [64, 2880]           [64, 10]             --                   True\n",
       "│    └─Linear: 2-5                       [64, 2880]           [64, 128]            368,768              True\n",
       "│    └─BatchNorm1d: 2-6                  [64, 128]            [64, 128]            256                  True\n",
       "│    └─ReLU: 2-7                         [64, 128]            [64, 128]            --                   --\n",
       "│    └─Linear: 2-8                       [64, 128]            [64, 10]             1,290                True\n",
       "========================================================================================================================\n",
       "Total params: 385,554\n",
       "Trainable params: 385,554\n",
       "Non-trainable params: 0\n",
       "Total mult-adds (M): 780.72\n",
       "========================================================================================================================\n",
       "Input size (MB): 4.17\n",
       "Forward/backward pass size (MB): 235.91\n",
       "Params size (MB): 1.54\n",
       "Estimated Total Size (MB): 241.62\n",
       "========================================================================================================================"
      ]
     },
     "execution_count": 9,
     "metadata": {},
     "output_type": "execute_result"
    }
   ],
   "source": [
    "from torchinfo import summary\n",
    "\n",
    "model = CNNModel()\n",
    "\n",
    "summary(model, input_size=(BATCH_SIZE, 1, 201, 81), col_names=[\"input_size\", \"output_size\", \"num_params\", \"trainable\"], col_width=20)"
   ]
  },
  {
   "cell_type": "code",
   "execution_count": 10,
   "metadata": {},
   "outputs": [],
   "source": [
    "criterion = nn.CrossEntropyLoss()\n",
    "optimizer = torch.optim.Adam(model.parameters(), lr=0.001)"
   ]
  },
  {
   "cell_type": "code",
   "execution_count": 11,
   "metadata": {},
   "outputs": [
    {
     "name": "stderr",
     "output_type": "stream",
     "text": [
      "Epoch 001/200: 100%|██████████| 282/282 [01:07<00:00,  4.19batch/s, batch_loss=1.638790]\n"
     ]
    },
    {
     "name": "stdout",
     "output_type": "stream",
     "text": [
      "Epoch 001, Train Loss: 1.918729, Val Loss: 1.802892 Elapsed Time: 131.57 seconds Counter: 0\n"
     ]
    },
    {
     "name": "stderr",
     "output_type": "stream",
     "text": [
      "Epoch 002/200: 100%|██████████| 282/282 [01:09<00:00,  4.07batch/s, batch_loss=1.360037]\n"
     ]
    },
    {
     "name": "stdout",
     "output_type": "stream",
     "text": [
      "Epoch 002, Train Loss: 1.315673, Val Loss: 1.018050 Elapsed Time: 91.11 seconds Counter: 0\n"
     ]
    },
    {
     "name": "stderr",
     "output_type": "stream",
     "text": [
      "Epoch 003/200: 100%|██████████| 282/282 [01:15<00:00,  3.74batch/s, batch_loss=0.316133]\n"
     ]
    },
    {
     "name": "stdout",
     "output_type": "stream",
     "text": [
      "Epoch 003, Train Loss: 0.865023, Val Loss: 0.621183 Elapsed Time: 99.73 seconds Counter: 0\n"
     ]
    },
    {
     "name": "stderr",
     "output_type": "stream",
     "text": [
      "Epoch 004/200: 100%|██████████| 282/282 [01:12<00:00,  3.89batch/s, batch_loss=1.071976]\n"
     ]
    },
    {
     "name": "stdout",
     "output_type": "stream",
     "text": [
      "Epoch 004, Train Loss: 0.621957, Val Loss: 0.478716 Elapsed Time: 94.05 seconds Counter: 0\n"
     ]
    },
    {
     "name": "stderr",
     "output_type": "stream",
     "text": [
      "Epoch 005/200: 100%|██████████| 282/282 [01:06<00:00,  4.26batch/s, batch_loss=0.285032]\n"
     ]
    },
    {
     "name": "stdout",
     "output_type": "stream",
     "text": [
      "Epoch 005, Train Loss: 0.465422, Val Loss: 0.422944 Elapsed Time: 88.15 seconds Counter: 0\n"
     ]
    },
    {
     "name": "stderr",
     "output_type": "stream",
     "text": [
      "Epoch 006/200: 100%|██████████| 282/282 [01:10<00:00,  3.99batch/s, batch_loss=0.861620]\n"
     ]
    },
    {
     "name": "stdout",
     "output_type": "stream",
     "text": [
      "Epoch 006, Train Loss: 0.395300, Val Loss: 0.353356 Elapsed Time: 92.37 seconds Counter: 0\n"
     ]
    },
    {
     "name": "stderr",
     "output_type": "stream",
     "text": [
      "Epoch 007/200: 100%|██████████| 282/282 [01:07<00:00,  4.16batch/s, batch_loss=0.776908]\n"
     ]
    },
    {
     "name": "stdout",
     "output_type": "stream",
     "text": [
      "Epoch 007, Train Loss: 0.333465, Val Loss: 0.314088 Elapsed Time: 87.58 seconds Counter: 0\n"
     ]
    },
    {
     "name": "stderr",
     "output_type": "stream",
     "text": [
      "Epoch 008/200: 100%|██████████| 282/282 [01:04<00:00,  4.40batch/s, batch_loss=0.271449]\n"
     ]
    },
    {
     "name": "stdout",
     "output_type": "stream",
     "text": [
      "Epoch 008, Train Loss: 0.284843, Val Loss: 0.307181 Elapsed Time: 83.90 seconds Counter: 0\n"
     ]
    },
    {
     "name": "stderr",
     "output_type": "stream",
     "text": [
      "Epoch 009/200: 100%|██████████| 282/282 [01:04<00:00,  4.40batch/s, batch_loss=0.460787]\n"
     ]
    },
    {
     "name": "stdout",
     "output_type": "stream",
     "text": [
      "Epoch 009, Train Loss: 0.261019, Val Loss: 0.272163 Elapsed Time: 82.99 seconds Counter: 0\n"
     ]
    },
    {
     "name": "stderr",
     "output_type": "stream",
     "text": [
      "Epoch 010/200: 100%|██████████| 282/282 [01:09<00:00,  4.05batch/s, batch_loss=0.464814]\n"
     ]
    },
    {
     "name": "stdout",
     "output_type": "stream",
     "text": [
      "Epoch 010, Train Loss: 0.230827, Val Loss: 0.283912 Elapsed Time: 91.46 seconds Counter: 1\n"
     ]
    },
    {
     "name": "stderr",
     "output_type": "stream",
     "text": [
      "Epoch 011/200: 100%|██████████| 282/282 [01:12<00:00,  3.89batch/s, batch_loss=0.367434]\n"
     ]
    },
    {
     "name": "stdout",
     "output_type": "stream",
     "text": [
      "Epoch 011, Train Loss: 0.216031, Val Loss: 0.278955 Elapsed Time: 93.98 seconds Counter: 2\n"
     ]
    },
    {
     "name": "stderr",
     "output_type": "stream",
     "text": [
      "Epoch 012/200: 100%|██████████| 282/282 [01:07<00:00,  4.17batch/s, batch_loss=0.084917]\n"
     ]
    },
    {
     "name": "stdout",
     "output_type": "stream",
     "text": [
      "Epoch 012, Train Loss: 0.198914, Val Loss: 0.274540 Elapsed Time: 88.95 seconds Counter: 3\n"
     ]
    },
    {
     "name": "stderr",
     "output_type": "stream",
     "text": [
      "Epoch 013/200: 100%|██████████| 282/282 [01:06<00:00,  4.24batch/s, batch_loss=0.106119]\n"
     ]
    },
    {
     "name": "stdout",
     "output_type": "stream",
     "text": [
      "Epoch 013, Train Loss: 0.191620, Val Loss: 0.244491 Elapsed Time: 87.35 seconds Counter: 0\n"
     ]
    },
    {
     "name": "stderr",
     "output_type": "stream",
     "text": [
      "Epoch 014/200: 100%|██████████| 282/282 [01:08<00:00,  4.10batch/s, batch_loss=0.081869]\n"
     ]
    },
    {
     "name": "stdout",
     "output_type": "stream",
     "text": [
      "Epoch 014, Train Loss: 0.168775, Val Loss: 0.235714 Elapsed Time: 90.08 seconds Counter: 0\n"
     ]
    },
    {
     "name": "stderr",
     "output_type": "stream",
     "text": [
      "Epoch 015/200: 100%|██████████| 282/282 [01:07<00:00,  4.16batch/s, batch_loss=0.333704]\n"
     ]
    },
    {
     "name": "stdout",
     "output_type": "stream",
     "text": [
      "Epoch 015, Train Loss: 0.162058, Val Loss: 0.238764 Elapsed Time: 87.14 seconds Counter: 1\n"
     ]
    },
    {
     "name": "stderr",
     "output_type": "stream",
     "text": [
      "Epoch 016/200: 100%|██████████| 282/282 [01:06<00:00,  4.23batch/s, batch_loss=0.154169]\n"
     ]
    },
    {
     "name": "stdout",
     "output_type": "stream",
     "text": [
      "Epoch 016, Train Loss: 0.154340, Val Loss: 0.236195 Elapsed Time: 89.60 seconds Counter: 2\n"
     ]
    },
    {
     "name": "stderr",
     "output_type": "stream",
     "text": [
      "Epoch 017/200: 100%|██████████| 282/282 [01:09<00:00,  4.07batch/s, batch_loss=0.322465]\n"
     ]
    },
    {
     "name": "stdout",
     "output_type": "stream",
     "text": [
      "Epoch 017, Train Loss: 0.139731, Val Loss: 0.218882 Elapsed Time: 91.60 seconds Counter: 0\n"
     ]
    },
    {
     "name": "stderr",
     "output_type": "stream",
     "text": [
      "Epoch 018/200: 100%|██████████| 282/282 [01:10<00:00,  4.02batch/s, batch_loss=0.500789]\n"
     ]
    },
    {
     "name": "stdout",
     "output_type": "stream",
     "text": [
      "Epoch 018, Train Loss: 0.135091, Val Loss: 0.222690 Elapsed Time: 90.85 seconds Counter: 1\n"
     ]
    },
    {
     "name": "stderr",
     "output_type": "stream",
     "text": [
      "Epoch 019/200: 100%|██████████| 282/282 [01:06<00:00,  4.27batch/s, batch_loss=0.120969]\n"
     ]
    },
    {
     "name": "stdout",
     "output_type": "stream",
     "text": [
      "Epoch 019, Train Loss: 0.131683, Val Loss: 0.209303 Elapsed Time: 85.90 seconds Counter: 0\n"
     ]
    },
    {
     "name": "stderr",
     "output_type": "stream",
     "text": [
      "Epoch 020/200: 100%|██████████| 282/282 [01:02<00:00,  4.54batch/s, batch_loss=0.016669]\n"
     ]
    },
    {
     "name": "stdout",
     "output_type": "stream",
     "text": [
      "Epoch 020, Train Loss: 0.131265, Val Loss: 0.224809 Elapsed Time: 81.66 seconds Counter: 1\n"
     ]
    },
    {
     "name": "stderr",
     "output_type": "stream",
     "text": [
      "Epoch 021/200: 100%|██████████| 282/282 [01:04<00:00,  4.38batch/s, batch_loss=0.028055]\n"
     ]
    },
    {
     "name": "stdout",
     "output_type": "stream",
     "text": [
      "Epoch 021, Train Loss: 0.120463, Val Loss: 0.205728 Elapsed Time: 84.62 seconds Counter: 0\n"
     ]
    },
    {
     "name": "stderr",
     "output_type": "stream",
     "text": [
      "Epoch 022/200: 100%|██████████| 282/282 [01:10<00:00,  4.00batch/s, batch_loss=0.190811]\n"
     ]
    },
    {
     "name": "stdout",
     "output_type": "stream",
     "text": [
      "Epoch 022, Train Loss: 0.115738, Val Loss: 0.217618 Elapsed Time: 91.94 seconds Counter: 1\n"
     ]
    },
    {
     "name": "stderr",
     "output_type": "stream",
     "text": [
      "Epoch 023/200: 100%|██████████| 282/282 [01:09<00:00,  4.07batch/s, batch_loss=0.405599]\n"
     ]
    },
    {
     "name": "stdout",
     "output_type": "stream",
     "text": [
      "Epoch 023, Train Loss: 0.119486, Val Loss: 0.204544 Elapsed Time: 90.81 seconds Counter: 0\n"
     ]
    },
    {
     "name": "stderr",
     "output_type": "stream",
     "text": [
      "Epoch 024/200: 100%|██████████| 282/282 [01:09<00:00,  4.06batch/s, batch_loss=0.056356]\n"
     ]
    },
    {
     "name": "stdout",
     "output_type": "stream",
     "text": [
      "Epoch 024, Train Loss: 0.118422, Val Loss: 0.211670 Elapsed Time: 90.89 seconds Counter: 1\n"
     ]
    },
    {
     "name": "stderr",
     "output_type": "stream",
     "text": [
      "Epoch 025/200: 100%|██████████| 282/282 [01:08<00:00,  4.14batch/s, batch_loss=0.089272]\n"
     ]
    },
    {
     "name": "stdout",
     "output_type": "stream",
     "text": [
      "Epoch 025, Train Loss: 0.120304, Val Loss: 0.208183 Elapsed Time: 87.69 seconds Counter: 2\n"
     ]
    },
    {
     "name": "stderr",
     "output_type": "stream",
     "text": [
      "Epoch 026/200: 100%|██████████| 282/282 [00:58<00:00,  4.82batch/s, batch_loss=0.160091]\n"
     ]
    },
    {
     "name": "stdout",
     "output_type": "stream",
     "text": [
      "Epoch 026, Train Loss: 0.114966, Val Loss: 0.208720 Elapsed Time: 75.00 seconds Counter: 3\n"
     ]
    },
    {
     "name": "stderr",
     "output_type": "stream",
     "text": [
      "Epoch 027/200: 100%|██████████| 282/282 [00:53<00:00,  5.24batch/s, batch_loss=0.023807]\n"
     ]
    },
    {
     "name": "stdout",
     "output_type": "stream",
     "text": [
      "Epoch 027, Train Loss: 0.097665, Val Loss: 0.209692 Elapsed Time: 70.47 seconds Counter: 4\n"
     ]
    },
    {
     "name": "stderr",
     "output_type": "stream",
     "text": [
      "Epoch 028/200: 100%|██████████| 282/282 [00:53<00:00,  5.31batch/s, batch_loss=0.478423]\n"
     ]
    },
    {
     "name": "stdout",
     "output_type": "stream",
     "text": [
      "Epoch 028, Train Loss: 0.108634, Val Loss: 0.213120 Elapsed Time: 69.35 seconds Counter: 5\n"
     ]
    },
    {
     "name": "stderr",
     "output_type": "stream",
     "text": [
      "Epoch 029/200: 100%|██████████| 282/282 [00:53<00:00,  5.24batch/s, batch_loss=0.082471]\n"
     ]
    },
    {
     "name": "stdout",
     "output_type": "stream",
     "text": [
      "Epoch 029, Train Loss: 0.099592, Val Loss: 0.208539 Elapsed Time: 70.49 seconds Counter: 6\n"
     ]
    },
    {
     "name": "stderr",
     "output_type": "stream",
     "text": [
      "Epoch 030/200: 100%|██████████| 282/282 [00:52<00:00,  5.38batch/s, batch_loss=0.390210]\n"
     ]
    },
    {
     "name": "stdout",
     "output_type": "stream",
     "text": [
      "Epoch 030, Train Loss: 0.101475, Val Loss: 0.214449 Elapsed Time: 68.75 seconds Counter: 7\n"
     ]
    },
    {
     "name": "stderr",
     "output_type": "stream",
     "text": [
      "Epoch 031/200: 100%|██████████| 282/282 [00:53<00:00,  5.27batch/s, batch_loss=0.285270]\n"
     ]
    },
    {
     "name": "stdout",
     "output_type": "stream",
     "text": [
      "Epoch 031, Train Loss: 0.101783, Val Loss: 0.203620 Elapsed Time: 69.95 seconds Counter: 0\n"
     ]
    },
    {
     "name": "stderr",
     "output_type": "stream",
     "text": [
      "Epoch 032/200: 100%|██████████| 282/282 [00:52<00:00,  5.32batch/s, batch_loss=0.179801]\n"
     ]
    },
    {
     "name": "stdout",
     "output_type": "stream",
     "text": [
      "Epoch 032, Train Loss: 0.094105, Val Loss: 0.201725 Elapsed Time: 69.13 seconds Counter: 0\n"
     ]
    },
    {
     "name": "stderr",
     "output_type": "stream",
     "text": [
      "Epoch 033/200: 100%|██████████| 282/282 [00:52<00:00,  5.37batch/s, batch_loss=0.289216]\n"
     ]
    },
    {
     "name": "stdout",
     "output_type": "stream",
     "text": [
      "Epoch 033, Train Loss: 0.101823, Val Loss: 0.206597 Elapsed Time: 68.70 seconds Counter: 1\n"
     ]
    },
    {
     "name": "stderr",
     "output_type": "stream",
     "text": [
      "Epoch 034/200: 100%|██████████| 282/282 [00:52<00:00,  5.38batch/s, batch_loss=0.034716]\n"
     ]
    },
    {
     "name": "stdout",
     "output_type": "stream",
     "text": [
      "Epoch 034, Train Loss: 0.091218, Val Loss: 0.187421 Elapsed Time: 68.98 seconds Counter: 0\n"
     ]
    },
    {
     "name": "stderr",
     "output_type": "stream",
     "text": [
      "Epoch 035/200: 100%|██████████| 282/282 [00:56<00:00,  4.97batch/s, batch_loss=0.052616]\n"
     ]
    },
    {
     "name": "stdout",
     "output_type": "stream",
     "text": [
      "Epoch 035, Train Loss: 0.092479, Val Loss: 0.187693 Elapsed Time: 75.80 seconds Counter: 1\n"
     ]
    },
    {
     "name": "stderr",
     "output_type": "stream",
     "text": [
      "Epoch 036/200: 100%|██████████| 282/282 [00:52<00:00,  5.33batch/s, batch_loss=0.099701]\n"
     ]
    },
    {
     "name": "stdout",
     "output_type": "stream",
     "text": [
      "Epoch 036, Train Loss: 0.090749, Val Loss: 0.202740 Elapsed Time: 69.25 seconds Counter: 2\n"
     ]
    },
    {
     "name": "stderr",
     "output_type": "stream",
     "text": [
      "Epoch 037/200: 100%|██████████| 282/282 [00:52<00:00,  5.39batch/s, batch_loss=0.201650]\n"
     ]
    },
    {
     "name": "stdout",
     "output_type": "stream",
     "text": [
      "Epoch 037, Train Loss: 0.080473, Val Loss: 0.194635 Elapsed Time: 68.78 seconds Counter: 3\n"
     ]
    },
    {
     "name": "stderr",
     "output_type": "stream",
     "text": [
      "Epoch 038/200: 100%|██████████| 282/282 [00:53<00:00,  5.29batch/s, batch_loss=0.043638]\n"
     ]
    },
    {
     "name": "stdout",
     "output_type": "stream",
     "text": [
      "Epoch 038, Train Loss: 0.090299, Val Loss: 0.197829 Elapsed Time: 69.22 seconds Counter: 4\n"
     ]
    },
    {
     "name": "stderr",
     "output_type": "stream",
     "text": [
      "Epoch 039/200: 100%|██████████| 282/282 [00:52<00:00,  5.38batch/s, batch_loss=0.239523]\n"
     ]
    },
    {
     "name": "stdout",
     "output_type": "stream",
     "text": [
      "Epoch 039, Train Loss: 0.089455, Val Loss: 0.181874 Elapsed Time: 68.76 seconds Counter: 0\n"
     ]
    },
    {
     "name": "stderr",
     "output_type": "stream",
     "text": [
      "Epoch 040/200: 100%|██████████| 282/282 [00:53<00:00,  5.30batch/s, batch_loss=0.034581]\n"
     ]
    },
    {
     "name": "stdout",
     "output_type": "stream",
     "text": [
      "Epoch 040, Train Loss: 0.084314, Val Loss: 0.184478 Elapsed Time: 69.50 seconds Counter: 1\n"
     ]
    },
    {
     "name": "stderr",
     "output_type": "stream",
     "text": [
      "Epoch 041/200: 100%|██████████| 282/282 [00:52<00:00,  5.40batch/s, batch_loss=0.059604]\n"
     ]
    },
    {
     "name": "stdout",
     "output_type": "stream",
     "text": [
      "Epoch 041, Train Loss: 0.083866, Val Loss: 0.195614 Elapsed Time: 68.58 seconds Counter: 2\n"
     ]
    },
    {
     "name": "stderr",
     "output_type": "stream",
     "text": [
      "Epoch 042/200: 100%|██████████| 282/282 [00:52<00:00,  5.35batch/s, batch_loss=0.005359]\n"
     ]
    },
    {
     "name": "stdout",
     "output_type": "stream",
     "text": [
      "Epoch 042, Train Loss: 0.084012, Val Loss: 0.182316 Elapsed Time: 68.98 seconds Counter: 3\n"
     ]
    },
    {
     "name": "stderr",
     "output_type": "stream",
     "text": [
      "Epoch 043/200: 100%|██████████| 282/282 [00:52<00:00,  5.33batch/s, batch_loss=0.699959]\n"
     ]
    },
    {
     "name": "stdout",
     "output_type": "stream",
     "text": [
      "Epoch 043, Train Loss: 0.078610, Val Loss: 0.185847 Elapsed Time: 68.87 seconds Counter: 4\n"
     ]
    },
    {
     "name": "stderr",
     "output_type": "stream",
     "text": [
      "Epoch 044/200: 100%|██████████| 282/282 [00:53<00:00,  5.31batch/s, batch_loss=0.021036]\n"
     ]
    },
    {
     "name": "stdout",
     "output_type": "stream",
     "text": [
      "Epoch 044, Train Loss: 0.076689, Val Loss: 0.181811 Elapsed Time: 69.61 seconds Counter: 0\n"
     ]
    },
    {
     "name": "stderr",
     "output_type": "stream",
     "text": [
      "Epoch 045/200: 100%|██████████| 282/282 [00:52<00:00,  5.36batch/s, batch_loss=0.127149]\n"
     ]
    },
    {
     "name": "stdout",
     "output_type": "stream",
     "text": [
      "Epoch 045, Train Loss: 0.077658, Val Loss: 0.178930 Elapsed Time: 69.22 seconds Counter: 0\n"
     ]
    },
    {
     "name": "stderr",
     "output_type": "stream",
     "text": [
      "Epoch 046/200: 100%|██████████| 282/282 [00:51<00:00,  5.44batch/s, batch_loss=0.556212]\n"
     ]
    },
    {
     "name": "stdout",
     "output_type": "stream",
     "text": [
      "Epoch 046, Train Loss: 0.076586, Val Loss: 0.172834 Elapsed Time: 68.10 seconds Counter: 0\n"
     ]
    },
    {
     "name": "stderr",
     "output_type": "stream",
     "text": [
      "Epoch 047/200: 100%|██████████| 282/282 [00:52<00:00,  5.41batch/s, batch_loss=0.187452]\n"
     ]
    },
    {
     "name": "stdout",
     "output_type": "stream",
     "text": [
      "Epoch 047, Train Loss: 0.079705, Val Loss: 0.180024 Elapsed Time: 68.17 seconds Counter: 1\n"
     ]
    },
    {
     "name": "stderr",
     "output_type": "stream",
     "text": [
      "Epoch 048/200: 100%|██████████| 282/282 [00:52<00:00,  5.34batch/s, batch_loss=0.007572]\n"
     ]
    },
    {
     "name": "stdout",
     "output_type": "stream",
     "text": [
      "Epoch 048, Train Loss: 0.078703, Val Loss: 0.173736 Elapsed Time: 69.04 seconds Counter: 2\n"
     ]
    },
    {
     "name": "stderr",
     "output_type": "stream",
     "text": [
      "Epoch 049/200: 100%|██████████| 282/282 [00:52<00:00,  5.39batch/s, batch_loss=0.086269]\n"
     ]
    },
    {
     "name": "stdout",
     "output_type": "stream",
     "text": [
      "Epoch 049, Train Loss: 0.074476, Val Loss: 0.191909 Elapsed Time: 68.81 seconds Counter: 3\n"
     ]
    },
    {
     "name": "stderr",
     "output_type": "stream",
     "text": [
      "Epoch 050/200: 100%|██████████| 282/282 [00:52<00:00,  5.40batch/s, batch_loss=0.089504]\n"
     ]
    },
    {
     "name": "stdout",
     "output_type": "stream",
     "text": [
      "Epoch 050, Train Loss: 0.079203, Val Loss: 0.182966 Elapsed Time: 68.25 seconds Counter: 4\n"
     ]
    },
    {
     "name": "stderr",
     "output_type": "stream",
     "text": [
      "Epoch 051/200: 100%|██████████| 282/282 [00:52<00:00,  5.35batch/s, batch_loss=0.110218]\n"
     ]
    },
    {
     "name": "stdout",
     "output_type": "stream",
     "text": [
      "Epoch 051, Train Loss: 0.076191, Val Loss: 0.182659 Elapsed Time: 68.95 seconds Counter: 5\n"
     ]
    },
    {
     "name": "stderr",
     "output_type": "stream",
     "text": [
      "Epoch 052/200: 100%|██████████| 282/282 [00:52<00:00,  5.39batch/s, batch_loss=0.125235]\n"
     ]
    },
    {
     "name": "stdout",
     "output_type": "stream",
     "text": [
      "Epoch 052, Train Loss: 0.080684, Val Loss: 0.160979 Elapsed Time: 68.66 seconds Counter: 0\n"
     ]
    },
    {
     "name": "stderr",
     "output_type": "stream",
     "text": [
      "Epoch 053/200: 100%|██████████| 282/282 [00:52<00:00,  5.35batch/s, batch_loss=0.005346]\n"
     ]
    },
    {
     "name": "stdout",
     "output_type": "stream",
     "text": [
      "Epoch 053, Train Loss: 0.077085, Val Loss: 0.169786 Elapsed Time: 69.00 seconds Counter: 1\n"
     ]
    },
    {
     "name": "stderr",
     "output_type": "stream",
     "text": [
      "Epoch 054/200: 100%|██████████| 282/282 [00:51<00:00,  5.45batch/s, batch_loss=0.009377]\n"
     ]
    },
    {
     "name": "stdout",
     "output_type": "stream",
     "text": [
      "Epoch 054, Train Loss: 0.064656, Val Loss: 0.159508 Elapsed Time: 67.86 seconds Counter: 0\n"
     ]
    },
    {
     "name": "stderr",
     "output_type": "stream",
     "text": [
      "Epoch 055/200: 100%|██████████| 282/282 [00:51<00:00,  5.46batch/s, batch_loss=0.561816]\n"
     ]
    },
    {
     "name": "stdout",
     "output_type": "stream",
     "text": [
      "Epoch 055, Train Loss: 0.072491, Val Loss: 0.190215 Elapsed Time: 68.10 seconds Counter: 1\n"
     ]
    },
    {
     "name": "stderr",
     "output_type": "stream",
     "text": [
      "Epoch 056/200: 100%|██████████| 282/282 [00:51<00:00,  5.48batch/s, batch_loss=0.041554]\n"
     ]
    },
    {
     "name": "stdout",
     "output_type": "stream",
     "text": [
      "Epoch 056, Train Loss: 0.077852, Val Loss: 0.176763 Elapsed Time: 67.81 seconds Counter: 2\n"
     ]
    },
    {
     "name": "stderr",
     "output_type": "stream",
     "text": [
      "Epoch 057/200: 100%|██████████| 282/282 [00:52<00:00,  5.40batch/s, batch_loss=0.160184]\n"
     ]
    },
    {
     "name": "stdout",
     "output_type": "stream",
     "text": [
      "Epoch 057, Train Loss: 0.071151, Val Loss: 0.166251 Elapsed Time: 68.40 seconds Counter: 3\n"
     ]
    },
    {
     "name": "stderr",
     "output_type": "stream",
     "text": [
      "Epoch 058/200: 100%|██████████| 282/282 [00:51<00:00,  5.43batch/s, batch_loss=0.012923]\n"
     ]
    },
    {
     "name": "stdout",
     "output_type": "stream",
     "text": [
      "Epoch 058, Train Loss: 0.065229, Val Loss: 0.175953 Elapsed Time: 67.98 seconds Counter: 4\n"
     ]
    },
    {
     "name": "stderr",
     "output_type": "stream",
     "text": [
      "Epoch 059/200: 100%|██████████| 282/282 [00:52<00:00,  5.39batch/s, batch_loss=0.173931]\n"
     ]
    },
    {
     "name": "stdout",
     "output_type": "stream",
     "text": [
      "Epoch 059, Train Loss: 0.068496, Val Loss: 0.164248 Elapsed Time: 68.72 seconds Counter: 5\n"
     ]
    },
    {
     "name": "stderr",
     "output_type": "stream",
     "text": [
      "Epoch 060/200: 100%|██████████| 282/282 [00:52<00:00,  5.41batch/s, batch_loss=0.060366]\n"
     ]
    },
    {
     "name": "stdout",
     "output_type": "stream",
     "text": [
      "Epoch 060, Train Loss: 0.065680, Val Loss: 0.191443 Elapsed Time: 68.53 seconds Counter: 6\n"
     ]
    },
    {
     "name": "stderr",
     "output_type": "stream",
     "text": [
      "Epoch 061/200: 100%|██████████| 282/282 [00:52<00:00,  5.40batch/s, batch_loss=0.964678]\n"
     ]
    },
    {
     "name": "stdout",
     "output_type": "stream",
     "text": [
      "Epoch 061, Train Loss: 0.068546, Val Loss: 0.177909 Elapsed Time: 68.72 seconds Counter: 7\n"
     ]
    },
    {
     "name": "stderr",
     "output_type": "stream",
     "text": [
      "Epoch 062/200: 100%|██████████| 282/282 [00:52<00:00,  5.39batch/s, batch_loss=0.004883]\n"
     ]
    },
    {
     "name": "stdout",
     "output_type": "stream",
     "text": [
      "Epoch 062, Train Loss: 0.073625, Val Loss: 0.167693 Elapsed Time: 68.41 seconds Counter: 8\n"
     ]
    },
    {
     "name": "stderr",
     "output_type": "stream",
     "text": [
      "Epoch 063/200: 100%|██████████| 282/282 [00:52<00:00,  5.39batch/s, batch_loss=0.011059]\n"
     ]
    },
    {
     "name": "stdout",
     "output_type": "stream",
     "text": [
      "Epoch 063, Train Loss: 0.071371, Val Loss: 0.184565 Elapsed Time: 68.79 seconds Counter: 9\n"
     ]
    },
    {
     "name": "stderr",
     "output_type": "stream",
     "text": [
      "Epoch 064/200: 100%|██████████| 282/282 [00:51<00:00,  5.43batch/s, batch_loss=0.092908]\n"
     ]
    },
    {
     "name": "stdout",
     "output_type": "stream",
     "text": [
      "Epoch 064, Train Loss: 0.062296, Val Loss: 0.180877 Elapsed Time: 68.24 seconds Counter: 10\n",
      "Early stopping at epoch 64 as there was no improvement for the last 10 epochs.\n"
     ]
    }
   ],
   "source": [
    "import time\n",
    "import matplotlib.pyplot as plt\n",
    "from tqdm import tqdm\n",
    "\n",
    "num_epochs = 200\n",
    "\n",
    "train_losses = []\n",
    "val_losses = []\n",
    "best_val_loss = float('inf')\n",
    "patience = 10\n",
    "early_stop_counter = 0\n",
    "\n",
    "for epoch in range(num_epochs):\n",
    "    model.train()\n",
    "    train_running_loss = 0.0\n",
    "    start_time = time.time()\n",
    "    \n",
    "    pbar = tqdm(enumerate(train_dataloader), desc=f\"Epoch {epoch + 1:03d}/{num_epochs}\", unit=\"batch\", total=len(train_dataloader))\n",
    "\n",
    "    for i, (inputs, labels) in pbar:\n",
    "        inputs, labels = inputs.to(device), labels.to(device)\n",
    "        optimizer.zero_grad()\n",
    "        outputs = model(inputs)\n",
    "        loss = criterion(outputs, labels)\n",
    "        loss.backward()\n",
    "        optimizer.step()\n",
    "        train_running_loss += loss.item()\n",
    "        \n",
    "        pbar.set_postfix(batch_loss=f\"{loss.item():.6f}\")\n",
    "\n",
    "    train_epoch_loss = train_running_loss / len(train_dataloader)\n",
    "    train_losses.append(train_epoch_loss)\n",
    "    \n",
    "    \n",
    "    model.eval()\n",
    "    val_running_loss = 0.0\n",
    "\n",
    "    with torch.no_grad():\n",
    "        for val_inputs, val_labels in val_dataloader:\n",
    "            val_inputs, val_labels = val_inputs.to(device), val_labels.to(device)\n",
    "            val_outputs = model(val_inputs)\n",
    "            val_loss = criterion(val_outputs, val_labels)\n",
    "            val_running_loss += val_loss.item()\n",
    "\n",
    "    val_epoch_loss = val_running_loss / len(val_dataloader)\n",
    "    val_losses.append(val_epoch_loss)\n",
    "    \n",
    "    if val_epoch_loss < best_val_loss:  \n",
    "        best_val_loss = val_epoch_loss\n",
    "        best_model_weights = model.state_dict()\n",
    "        early_stop_counter = 0\n",
    "    else:\n",
    "        early_stop_counter += 1\n",
    "\n",
    "    \n",
    "    elapsed_time = time.time() - start_time\n",
    "    print(f\"Epoch {epoch + 1:03d}, Train Loss: {train_epoch_loss:.6f}, Val Loss: {val_epoch_loss:.6f} Elapsed Time: {elapsed_time:.2f} seconds Counter: {early_stop_counter}\")\n",
    "    \n",
    "    if early_stop_counter >= patience:\n",
    "        print(f\"Early stopping at epoch {epoch + 1} as there was no improvement for the last {patience} epochs.\")\n",
    "        break"
   ]
  },
  {
   "cell_type": "code",
   "execution_count": 12,
   "metadata": {},
   "outputs": [
    {
     "data": {
      "text/plain": [
       "<All keys matched successfully>"
      ]
     },
     "execution_count": 12,
     "metadata": {},
     "output_type": "execute_result"
    }
   ],
   "source": [
    "model.load_state_dict(best_model_weights)"
   ]
  },
  {
   "cell_type": "code",
   "execution_count": 13,
   "metadata": {},
   "outputs": [
    {
     "data": {
      "image/png": "[encoded data removed]",
      "text/plain": [
       "<Figure size 1200x600 with 1 Axes>"
      ]
     },
     "metadata": {},
     "output_type": "display_data"
    }
   ],
   "source": [
    "plt.figure(figsize=(12, 6))\n",
    "plt.plot(range(1, len(train_losses) + 1), train_losses, label='Training Loss')\n",
    "plt.plot(range(1, len(val_losses) + 1), val_losses, label='Validation Loss')\n",
    "plt.xlabel('Epoch')\n",
    "plt.ylabel('Loss')\n",
    "plt.title('Training Loss Over Epochs')\n",
    "plt.legend()\n",
    "\n",
    "plt.tight_layout()\n",
    "plt.show()"
   ]
  },
  {
   "cell_type": "code",
   "execution_count": 14,
   "metadata": {},
   "outputs": [
    {
     "name": "stdout",
     "output_type": "stream",
     "text": [
      "Test Accuracy: 95.48333333333333%\n",
      "Confusion Matrix:\n",
      "[[575   1   9  13   2   0   0   0   0   0]\n",
      " [  0 583   2   1   1   0   0   0   0  13]\n",
      " [  6   0 558  20  12   0   1   0   3   0]\n",
      " [  1   0  15 560   0   0   4   1  19   0]\n",
      " [  0  21   1   0 571   5   0   1   0   1]\n",
      " [  0   4   0   0  16 573   1   0   0   6]\n",
      " [  0   0   0   2   0   0 579   0  19   0]\n",
      " [  0   0   0  10  10   4   1 567   6   2]\n",
      " [  0   0  17   0   0   0   2   0 581   0]\n",
      " [  0   8   0   9   0   1   0   0   0 582]]\n"
     ]
    },
    {
     "data": {
      "image/png": "[encoded data removed]",
      "text/plain": [
       "<Figure size 1000x800 with 2 Axes>"
      ]
     },
     "metadata": {},
     "output_type": "display_data"
    },
    {
     "name": "stdout",
     "output_type": "stream",
     "text": [
      "Classification Report:\n",
      "              precision    recall  f1-score   support\n",
      "\n",
      "           0    0.98797   0.95833   0.97293       600\n",
      "           1    0.94489   0.97167   0.95809       600\n",
      "           2    0.92691   0.93000   0.92845       600\n",
      "           3    0.91057   0.93333   0.92181       600\n",
      "           4    0.93301   0.95167   0.94224       600\n",
      "           5    0.98285   0.95500   0.96872       600\n",
      "           6    0.98469   0.96500   0.97475       600\n",
      "           7    0.99649   0.94500   0.97006       600\n",
      "           8    0.92516   0.96833   0.94625       600\n",
      "           9    0.96358   0.97000   0.96678       600\n",
      "\n",
      "    accuracy                        0.95483      6000\n",
      "   macro avg    0.95561   0.95483   0.95501      6000\n",
      "weighted avg    0.95561   0.95483   0.95501      6000\n",
      "\n"
     ]
    }
   ],
   "source": [
    "from sklearn.metrics import classification_report, confusion_matrix\n",
    "import seaborn as sns\n",
    "import matplotlib.pyplot as plt\n",
    "\n",
    "model.eval()\n",
    "correct = 0\n",
    "total = 0\n",
    "all_predicted = []\n",
    "all_labels = []\n",
    "all_probabilities = []\n",
    "\n",
    "with torch.no_grad():\n",
    "    for inputs, labels in test_dataloader:\n",
    "        inputs, labels = inputs.to(device), labels.to(device)\n",
    "        outputs = model(inputs)\n",
    "        all_probabilities.extend(torch.exp(outputs.to('cpu')).tolist())\n",
    "        _, predicted = torch.max(outputs.data, 1)\n",
    "        total += labels.size(0)\n",
    "        correct += (predicted == labels).sum().item()\n",
    "\n",
    "        all_predicted.extend(predicted.tolist())\n",
    "        all_labels.extend(labels.tolist())\n",
    "\n",
    "confusion = confusion_matrix(all_labels, all_predicted)\n",
    "print(f\"Test Accuracy: {100 * correct / total}%\")\n",
    "print(\"Confusion Matrix:\")\n",
    "print(confusion)\n",
    "\n",
    "fig = plt.figure(figsize=(10, 8))\n",
    "sns.heatmap(confusion, annot=True, fmt=\"d\", cmap=\"magma\", xticklabels=range(10), yticklabels=range(10))\n",
    "plt.xlabel(\"Predicted\")\n",
    "plt.ylabel(\"True\")\n",
    "plt.title(\"Confusion Matrix\")\n",
    "plt.show()\n",
    "\n",
    "report = classification_report(all_labels, all_predicted, digits=5)\n",
    "print(\"Classification Report:\")\n",
    "print(report)"
   ]
  },
  {
   "cell_type": "code",
   "execution_count": 15,
   "metadata": {},
   "outputs": [],
   "source": [
    "torch.save(model.state_dict(), \"spectrogram_cnn.pth\")"
   ]
  }
 ],
 "metadata": {
  "kernelspec": {
   "display_name": "Python 3",
   "language": "python",
   "name": "python3"
  },
  "language_info": {
   "codemirror_mode": {
    "name": "ipython",
    "version": 3
   },
   "file_extension": ".py",
   "mimetype": "text/x-python",
   "name": "python",
   "nbconvert_exporter": "python",
   "pygments_lexer": "ipython3",
   "version": "3.10.6"
  }
 },
 "nbformat": 4,
 "nbformat_minor": 2
}
